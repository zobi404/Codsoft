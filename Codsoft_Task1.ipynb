{
 "cells": [
  {
   "cell_type": "markdown",
   "id": "b07a2836",
   "metadata": {},
   "source": [
    "# Importing necessary librarires and DataSet"
   ]
  },
  {
   "cell_type": "code",
   "execution_count": 377,
   "id": "a2d9ec22",
   "metadata": {},
   "outputs": [],
   "source": [
    "import pandas as pd\n",
    "from sklearn.linear_model import LogisticRegression\n",
    "from sklearn.model_selection import train_test_split\n",
    "from sklearn.preprocessing import StandardScaler\n",
    "from sklearn.metrics import accuracy_score, log_loss, f1_score\n",
    "import matplotlib.pyplot as plt\n",
    "%matplotlib inline"
   ]
  },
  {
   "cell_type": "code",
   "execution_count": 378,
   "id": "b9361483",
   "metadata": {},
   "outputs": [
    {
     "data": {
      "text/html": [
       "<div>\n",
       "<style scoped>\n",
       "    .dataframe tbody tr th:only-of-type {\n",
       "        vertical-align: middle;\n",
       "    }\n",
       "\n",
       "    .dataframe tbody tr th {\n",
       "        vertical-align: top;\n",
       "    }\n",
       "\n",
       "    .dataframe thead th {\n",
       "        text-align: right;\n",
       "    }\n",
       "</style>\n",
       "<table border=\"1\" class=\"dataframe\">\n",
       "  <thead>\n",
       "    <tr style=\"text-align: right;\">\n",
       "      <th></th>\n",
       "      <th>PassengerId</th>\n",
       "      <th>Survived</th>\n",
       "      <th>Pclass</th>\n",
       "      <th>Name</th>\n",
       "      <th>Sex</th>\n",
       "      <th>Age</th>\n",
       "      <th>SibSp</th>\n",
       "      <th>Parch</th>\n",
       "      <th>Ticket</th>\n",
       "      <th>Fare</th>\n",
       "      <th>Cabin</th>\n",
       "      <th>Embarked</th>\n",
       "    </tr>\n",
       "  </thead>\n",
       "  <tbody>\n",
       "    <tr>\n",
       "      <th>0</th>\n",
       "      <td>892</td>\n",
       "      <td>0</td>\n",
       "      <td>3</td>\n",
       "      <td>Kelly, Mr. James</td>\n",
       "      <td>male</td>\n",
       "      <td>34.5</td>\n",
       "      <td>0</td>\n",
       "      <td>0</td>\n",
       "      <td>330911</td>\n",
       "      <td>7.8292</td>\n",
       "      <td>NaN</td>\n",
       "      <td>Q</td>\n",
       "    </tr>\n",
       "    <tr>\n",
       "      <th>1</th>\n",
       "      <td>893</td>\n",
       "      <td>1</td>\n",
       "      <td>3</td>\n",
       "      <td>Wilkes, Mrs. James (Ellen Needs)</td>\n",
       "      <td>female</td>\n",
       "      <td>47.0</td>\n",
       "      <td>1</td>\n",
       "      <td>0</td>\n",
       "      <td>363272</td>\n",
       "      <td>7.0000</td>\n",
       "      <td>NaN</td>\n",
       "      <td>S</td>\n",
       "    </tr>\n",
       "    <tr>\n",
       "      <th>2</th>\n",
       "      <td>894</td>\n",
       "      <td>0</td>\n",
       "      <td>2</td>\n",
       "      <td>Myles, Mr. Thomas Francis</td>\n",
       "      <td>male</td>\n",
       "      <td>62.0</td>\n",
       "      <td>0</td>\n",
       "      <td>0</td>\n",
       "      <td>240276</td>\n",
       "      <td>9.6875</td>\n",
       "      <td>NaN</td>\n",
       "      <td>Q</td>\n",
       "    </tr>\n",
       "    <tr>\n",
       "      <th>3</th>\n",
       "      <td>895</td>\n",
       "      <td>0</td>\n",
       "      <td>3</td>\n",
       "      <td>Wirz, Mr. Albert</td>\n",
       "      <td>male</td>\n",
       "      <td>27.0</td>\n",
       "      <td>0</td>\n",
       "      <td>0</td>\n",
       "      <td>315154</td>\n",
       "      <td>8.6625</td>\n",
       "      <td>NaN</td>\n",
       "      <td>S</td>\n",
       "    </tr>\n",
       "    <tr>\n",
       "      <th>4</th>\n",
       "      <td>896</td>\n",
       "      <td>1</td>\n",
       "      <td>3</td>\n",
       "      <td>Hirvonen, Mrs. Alexander (Helga E Lindqvist)</td>\n",
       "      <td>female</td>\n",
       "      <td>22.0</td>\n",
       "      <td>1</td>\n",
       "      <td>1</td>\n",
       "      <td>3101298</td>\n",
       "      <td>12.2875</td>\n",
       "      <td>NaN</td>\n",
       "      <td>S</td>\n",
       "    </tr>\n",
       "  </tbody>\n",
       "</table>\n",
       "</div>"
      ],
      "text/plain": [
       "   PassengerId  Survived  Pclass  \\\n",
       "0          892         0       3   \n",
       "1          893         1       3   \n",
       "2          894         0       2   \n",
       "3          895         0       3   \n",
       "4          896         1       3   \n",
       "\n",
       "                                           Name     Sex   Age  SibSp  Parch  \\\n",
       "0                              Kelly, Mr. James    male  34.5      0      0   \n",
       "1              Wilkes, Mrs. James (Ellen Needs)  female  47.0      1      0   \n",
       "2                     Myles, Mr. Thomas Francis    male  62.0      0      0   \n",
       "3                              Wirz, Mr. Albert    male  27.0      0      0   \n",
       "4  Hirvonen, Mrs. Alexander (Helga E Lindqvist)  female  22.0      1      1   \n",
       "\n",
       "    Ticket     Fare Cabin Embarked  \n",
       "0   330911   7.8292   NaN        Q  \n",
       "1   363272   7.0000   NaN        S  \n",
       "2   240276   9.6875   NaN        Q  \n",
       "3   315154   8.6625   NaN        S  \n",
       "4  3101298  12.2875   NaN        S  "
      ]
     },
     "execution_count": 378,
     "metadata": {},
     "output_type": "execute_result"
    }
   ],
   "source": [
    "df = pd.read_csv('datasets/titanic.csv')\n",
    "df.head()"
   ]
  },
  {
   "cell_type": "code",
   "execution_count": 379,
   "id": "42b86df8",
   "metadata": {},
   "outputs": [
    {
     "data": {
      "text/plain": [
       "(418, 12)"
      ]
     },
     "execution_count": 379,
     "metadata": {},
     "output_type": "execute_result"
    }
   ],
   "source": [
    "df.shape"
   ]
  },
  {
   "cell_type": "markdown",
   "id": "8993fea6",
   "metadata": {},
   "source": [
    "### Checking for Null Values"
   ]
  },
  {
   "cell_type": "code",
   "execution_count": 380,
   "id": "2530e6f8",
   "metadata": {},
   "outputs": [
    {
     "data": {
      "text/plain": [
       "PassengerId      0\n",
       "Survived         0\n",
       "Pclass           0\n",
       "Name             0\n",
       "Sex              0\n",
       "Age             86\n",
       "SibSp            0\n",
       "Parch            0\n",
       "Ticket           0\n",
       "Fare             1\n",
       "Cabin          327\n",
       "Embarked         0\n",
       "dtype: int64"
      ]
     },
     "execution_count": 380,
     "metadata": {},
     "output_type": "execute_result"
    }
   ],
   "source": [
    "df.isnull().sum()"
   ]
  },
  {
   "cell_type": "markdown",
   "id": "3739f175",
   "metadata": {},
   "source": [
    "# DataSet Cleaning"
   ]
  },
  {
   "cell_type": "code",
   "execution_count": 381,
   "id": "edb42d3d",
   "metadata": {},
   "outputs": [
    {
     "data": {
      "text/plain": [
       "PassengerId      0\n",
       "Survived         0\n",
       "Pclass           0\n",
       "Name             0\n",
       "Sex              0\n",
       "Age             86\n",
       "SibSp            0\n",
       "Parch            0\n",
       "Ticket           0\n",
       "Fare             0\n",
       "Cabin          327\n",
       "Embarked         0\n",
       "dtype: int64"
      ]
     },
     "execution_count": 381,
     "metadata": {},
     "output_type": "execute_result"
    }
   ],
   "source": [
    "df['Fare'] = df['Fare'].fillna(method = 'ffill')\n",
    "df.isnull().sum()"
   ]
  },
  {
   "cell_type": "markdown",
   "id": "e3cade43",
   "metadata": {},
   "source": [
    "### Filling null values with the mean "
   ]
  },
  {
   "cell_type": "code",
   "execution_count": 382,
   "id": "41a34dd7",
   "metadata": {},
   "outputs": [],
   "source": [
    "df.loc[df['Sex'] == 'female', 'Age'] = df[df['Sex'] == 'female'][['Age']].fillna(round(df[df['Sex'] == 'female'][['Age']].mean(), 2))\n",
    "df.loc[df['Sex'] == 'male', 'Age'] = df[df['Sex'] == 'male'][['Age']].fillna(round(df[df['Sex'] == 'male'][['Age']].mean(), 2))\n"
   ]
  },
  {
   "cell_type": "code",
   "execution_count": 383,
   "id": "e39f9789",
   "metadata": {},
   "outputs": [
    {
     "name": "stdout",
     "output_type": "stream",
     "text": [
      "<class 'pandas.core.frame.DataFrame'>\n",
      "RangeIndex: 418 entries, 0 to 417\n",
      "Data columns (total 12 columns):\n",
      " #   Column       Non-Null Count  Dtype  \n",
      "---  ------       --------------  -----  \n",
      " 0   PassengerId  418 non-null    int64  \n",
      " 1   Survived     418 non-null    int64  \n",
      " 2   Pclass       418 non-null    int64  \n",
      " 3   Name         418 non-null    object \n",
      " 4   Sex          418 non-null    object \n",
      " 5   Age          418 non-null    float64\n",
      " 6   SibSp        418 non-null    int64  \n",
      " 7   Parch        418 non-null    int64  \n",
      " 8   Ticket       418 non-null    object \n",
      " 9   Fare         418 non-null    float64\n",
      " 10  Cabin        91 non-null     object \n",
      " 11  Embarked     418 non-null    object \n",
      "dtypes: float64(2), int64(5), object(5)\n",
      "memory usage: 39.3+ KB\n"
     ]
    }
   ],
   "source": [
    "df.info()"
   ]
  },
  {
   "cell_type": "markdown",
   "id": "aed0a96b",
   "metadata": {},
   "source": [
    "### Dropping Unwanted Coloumns"
   ]
  },
  {
   "cell_type": "code",
   "execution_count": 384,
   "id": "725b4458",
   "metadata": {},
   "outputs": [
    {
     "data": {
      "text/html": [
       "<div>\n",
       "<style scoped>\n",
       "    .dataframe tbody tr th:only-of-type {\n",
       "        vertical-align: middle;\n",
       "    }\n",
       "\n",
       "    .dataframe tbody tr th {\n",
       "        vertical-align: top;\n",
       "    }\n",
       "\n",
       "    .dataframe thead th {\n",
       "        text-align: right;\n",
       "    }\n",
       "</style>\n",
       "<table border=\"1\" class=\"dataframe\">\n",
       "  <thead>\n",
       "    <tr style=\"text-align: right;\">\n",
       "      <th></th>\n",
       "      <th>PassengerId</th>\n",
       "      <th>Survived</th>\n",
       "      <th>Pclass</th>\n",
       "      <th>Sex</th>\n",
       "      <th>Age</th>\n",
       "      <th>SibSp</th>\n",
       "      <th>Parch</th>\n",
       "      <th>Fare</th>\n",
       "      <th>Embarked</th>\n",
       "    </tr>\n",
       "  </thead>\n",
       "  <tbody>\n",
       "    <tr>\n",
       "      <th>0</th>\n",
       "      <td>892</td>\n",
       "      <td>0</td>\n",
       "      <td>3</td>\n",
       "      <td>male</td>\n",
       "      <td>34.5</td>\n",
       "      <td>0</td>\n",
       "      <td>0</td>\n",
       "      <td>7.8292</td>\n",
       "      <td>Q</td>\n",
       "    </tr>\n",
       "    <tr>\n",
       "      <th>1</th>\n",
       "      <td>893</td>\n",
       "      <td>1</td>\n",
       "      <td>3</td>\n",
       "      <td>female</td>\n",
       "      <td>47.0</td>\n",
       "      <td>1</td>\n",
       "      <td>0</td>\n",
       "      <td>7.0000</td>\n",
       "      <td>S</td>\n",
       "    </tr>\n",
       "    <tr>\n",
       "      <th>2</th>\n",
       "      <td>894</td>\n",
       "      <td>0</td>\n",
       "      <td>2</td>\n",
       "      <td>male</td>\n",
       "      <td>62.0</td>\n",
       "      <td>0</td>\n",
       "      <td>0</td>\n",
       "      <td>9.6875</td>\n",
       "      <td>Q</td>\n",
       "    </tr>\n",
       "    <tr>\n",
       "      <th>3</th>\n",
       "      <td>895</td>\n",
       "      <td>0</td>\n",
       "      <td>3</td>\n",
       "      <td>male</td>\n",
       "      <td>27.0</td>\n",
       "      <td>0</td>\n",
       "      <td>0</td>\n",
       "      <td>8.6625</td>\n",
       "      <td>S</td>\n",
       "    </tr>\n",
       "    <tr>\n",
       "      <th>4</th>\n",
       "      <td>896</td>\n",
       "      <td>1</td>\n",
       "      <td>3</td>\n",
       "      <td>female</td>\n",
       "      <td>22.0</td>\n",
       "      <td>1</td>\n",
       "      <td>1</td>\n",
       "      <td>12.2875</td>\n",
       "      <td>S</td>\n",
       "    </tr>\n",
       "  </tbody>\n",
       "</table>\n",
       "</div>"
      ],
      "text/plain": [
       "   PassengerId  Survived  Pclass     Sex   Age  SibSp  Parch     Fare Embarked\n",
       "0          892         0       3    male  34.5      0      0   7.8292        Q\n",
       "1          893         1       3  female  47.0      1      0   7.0000        S\n",
       "2          894         0       2    male  62.0      0      0   9.6875        Q\n",
       "3          895         0       3    male  27.0      0      0   8.6625        S\n",
       "4          896         1       3  female  22.0      1      1  12.2875        S"
      ]
     },
     "execution_count": 384,
     "metadata": {},
     "output_type": "execute_result"
    }
   ],
   "source": [
    "df.drop(columns = ['Cabin', 'Name', 'Ticket'], inplace = True)\n",
    "df.head()"
   ]
  },
  {
   "cell_type": "markdown",
   "id": "4d867b38",
   "metadata": {},
   "source": [
    "## Replacing Discrete Values with numbers"
   ]
  },
  {
   "cell_type": "code",
   "execution_count": 385,
   "id": "afd1c9bf",
   "metadata": {},
   "outputs": [],
   "source": [
    "df.loc[df['Sex'] == 'female', 'Sex'] = 0\n",
    "df.loc[df['Sex'] == 'male', 'Sex'] = 1\n",
    "\n",
    "df['Sex'] = df['Sex'].astype(int)"
   ]
  },
  {
   "cell_type": "code",
   "execution_count": 386,
   "id": "372654e1",
   "metadata": {},
   "outputs": [],
   "source": [
    "df.loc[df['Embarked'] == 'Q', 'Embarked'] = 0\n",
    "df.loc[df['Embarked'] == 'S', 'Embarked'] = 1\n",
    "df.loc[df['Embarked'] == 'C', 'Embarked'] = 2\n",
    "\n",
    "df['Embarked'] = df['Embarked'].astype(int)"
   ]
  },
  {
   "cell_type": "markdown",
   "id": "4cc0e260",
   "metadata": {},
   "source": [
    "### Splitting Dataset in X and Y"
   ]
  },
  {
   "cell_type": "code",
   "execution_count": 387,
   "id": "9bd044e3",
   "metadata": {},
   "outputs": [
    {
     "name": "stdout",
     "output_type": "stream",
     "text": [
      "(418, 8)\n",
      "(418,)\n"
     ]
    }
   ],
   "source": [
    "X = df[['PassengerId', 'Pclass', 'Sex', 'Age', 'SibSp', 'Parch', 'Fare', 'Embarked']]\n",
    "Y = df['Survived']\n",
    "print(X.shape)\n",
    "print(Y.shape)"
   ]
  },
  {
   "cell_type": "markdown",
   "id": "16e9de87",
   "metadata": {},
   "source": [
    "## Data Visualization"
   ]
  },
  {
   "cell_type": "code",
   "execution_count": 388,
   "id": "ad9848dc",
   "metadata": {},
   "outputs": [
    {
     "data": {
      "image/png": "[encoded data removed]",
      "text/plain": [
       "<Figure size 640x480 with 1 Axes>"
      ]
     },
     "metadata": {},
     "output_type": "display_data"
    }
   ],
   "source": [
    "plt.hist(df['Pclass'], bins = 10 )\n",
    "plt.xlabel('Pclass')\n",
    "plt.ylabel('Total')\n",
    "plt.show()"
   ]
  },
  {
   "cell_type": "code",
   "execution_count": 389,
   "id": "c7a9c59a",
   "metadata": {},
   "outputs": [
    {
     "data": {
      "image/png": "[encoded data removed]",
      "text/plain": [
       "<Figure size 640x480 with 1 Axes>"
      ]
     },
     "metadata": {},
     "output_type": "display_data"
    }
   ],
   "source": [
    "plt.hist(df['Sex'],  bins = 10)\n",
    "plt.hist(df['Survived'],  bins = 10)\n",
    "plt.xlabel(\"Sex\")\n",
    "plt.ylabel(\"Total\")\n",
    "plt.show()"
   ]
  },
  {
   "cell_type": "code",
   "execution_count": 390,
   "id": "1ddbe0ab",
   "metadata": {},
   "outputs": [
    {
     "data": {
      "image/png": "[encoded data removed]",
      "text/plain": [
       "<Figure size 640x480 with 1 Axes>"
      ]
     },
     "metadata": {},
     "output_type": "display_data"
    }
   ],
   "source": [
    "#plt.bar(df['Survived'], df['Survived'] ,width = 0.5)\n",
    "plt.bar(df['Age'], df['Survived'], width = 0.4)\n",
    "plt.xlabel(\"Age\")\n",
    "plt.ylabel(\"Survived\")\n",
    "plt.show()"
   ]
  },
  {
   "cell_type": "markdown",
   "id": "8996b291",
   "metadata": {},
   "source": [
    "## Splitting Data into training and testing data frames"
   ]
  },
  {
   "cell_type": "code",
   "execution_count": 391,
   "id": "ff4377eb",
   "metadata": {},
   "outputs": [],
   "source": [
    "X_train, X_test, y_train, y_test = train_test_split(X, Y, test_size = 0.2, random_state = 10)"
   ]
  },
  {
   "cell_type": "code",
   "execution_count": 392,
   "id": "17c4a388",
   "metadata": {},
   "outputs": [
    {
     "name": "stdout",
     "output_type": "stream",
     "text": [
      "X_train Set & Y_train Set (334, 8) (334,)\n",
      "X_test Set & Y_test Set (84, 8) (84,)\n"
     ]
    }
   ],
   "source": [
    "print(\"X_train Set & Y_train Set\", X_train.shape, y_train.shape)\n",
    "print(\"X_test Set & Y_test Set\", X_test.shape, y_test.shape)"
   ]
  },
  {
   "cell_type": "markdown",
   "id": "ecc10f28",
   "metadata": {},
   "source": [
    "### Training Set Normalization to avoid biasness"
   ]
  },
  {
   "cell_type": "code",
   "execution_count": 393,
   "id": "d4d756a5",
   "metadata": {},
   "outputs": [
    {
     "data": {
      "text/plain": [
       "array([[ 0.57755825,  0.86150174,  0.71506099, ...,  0.68189007,\n",
       "        -0.37660894, -0.2622706 ],\n",
       "       [-1.29070651, -0.32261999, -1.39848211, ...,  0.68189007,\n",
       "        -0.20808171, -0.2622706 ],\n",
       "       [ 0.7570422 ,  0.86150174,  0.71506099, ..., -0.40263985,\n",
       "        -0.47000682, -0.2622706 ],\n",
       "       ...,\n",
       "       [-1.59256588, -0.32261999, -1.39848211, ..., -0.40263985,\n",
       "        -0.12183961,  1.4553447 ],\n",
       "       [-0.69514613,  0.86150174, -1.39848211, ...,  0.68189007,\n",
       "        -0.33413459, -0.2622706 ],\n",
       "       [ 0.44702447,  0.86150174,  0.71506099, ..., -0.40263985,\n",
       "        -0.4840133 , -0.2622706 ]])"
      ]
     },
     "execution_count": 393,
     "metadata": {},
     "output_type": "execute_result"
    }
   ],
   "source": [
    "x_train_norm = StandardScaler().fit(X_train).transform(X_train)\n",
    "x_train_norm"
   ]
  },
  {
   "cell_type": "markdown",
   "id": "efa2799a",
   "metadata": {},
   "source": [
    "# Model Selection, Training & Initialization"
   ]
  },
  {
   "cell_type": "code",
   "execution_count": 394,
   "id": "9e929225",
   "metadata": {},
   "outputs": [
    {
     "data": {
      "text/plain": [
       "LogisticRegression(solver='liblinear')"
      ]
     },
     "execution_count": 394,
     "metadata": {},
     "output_type": "execute_result"
    }
   ],
   "source": [
    "model = LogisticRegression(solver = 'liblinear')\n",
    "model.fit(x_train_norm, y_train)"
   ]
  },
  {
   "cell_type": "markdown",
   "id": "e77b744e",
   "metadata": {},
   "source": [
    "### Testing Set Normalization to avoid biasness"
   ]
  },
  {
   "cell_type": "code",
   "execution_count": 395,
   "id": "f110ad05",
   "metadata": {},
   "outputs": [
    {
     "data": {
      "text/plain": [
       "array([[ 1.42469213, -0.28843487, -1.07417231,  0.0148058 , -0.52571732,\n",
       "        -0.40356716, -0.32262683, -0.10557361],\n",
       "       [-0.42410621,  0.92299159,  0.93094934, -1.30592417,  2.93783211,\n",
       "         1.2914149 , -0.14822306, -0.10557361],\n",
       "       [-1.37517074,  0.92299159,  0.93094934, -0.03875714, -0.52571732,\n",
       "        -0.40356716, -0.54509132, -1.87921024],\n",
       "       [-0.9040827 , -1.49986134, -1.07417231,  0.89529245,  0.34017003,\n",
       "        -0.40356716,  0.25564151,  1.66806302],\n",
       "       [-0.13078725,  0.92299159,  0.93094934, -1.01242862,  1.20605739,\n",
       "        -0.40356716, -0.54005439, -0.10557361],\n",
       "       [-0.77964435, -1.49986134, -1.07417231,  2.3627702 ,  0.34017003,\n",
       "        -0.40356716,  3.04841041, -0.10557361],\n",
       "       [ 0.30474698, -1.49986134,  0.93094934,  2.43614408,  0.34017003,\n",
       "        -0.40356716,  0.58821837,  1.66806302],\n",
       "       [-0.53076765, -1.49986134,  0.93094934,  2.21602242,  0.34017003,\n",
       "         2.13890593,  3.73000469,  1.66806302],\n",
       "       [ 1.72689955,  0.92299159,  0.93094934, -0.49881141, -0.52571732,\n",
       "        -0.40356716, -0.55348621, -1.87921024],\n",
       "       [-1.7840396 ,  0.92299159, -1.07417231,  1.188788  ,  0.34017003,\n",
       "        -0.40356716, -0.55768365, -0.10557361],\n",
       "       [-0.08634498,  0.92299159,  0.93094934, -1.415985  ,  0.34017003,\n",
       "         0.44392387, -0.43176035, -0.10557361],\n",
       "       [-0.81519817, -0.28843487,  0.93094934,  0.74854468, -0.52571732,\n",
       "        -0.40356716, -0.42259649,  1.66806302],\n",
       "       [-1.41072456, -0.28843487, -1.07417231, -0.05856809, -0.52571732,\n",
       "        -0.40356716, -0.45694501, -0.10557361],\n",
       "       [ 0.55362368, -0.28843487,  0.93094934, -0.05856809, -0.52571732,\n",
       "        -0.40356716, -0.46135233,  1.66806302],\n",
       "       [ 0.94471563, -1.49986134,  0.93094934,  1.7757791 ,  0.34017003,\n",
       "         0.44392387,  0.89463173, -0.10557361],\n",
       "       [ 0.66917357, -0.28843487,  0.93094934,  0.67517079,  0.34017003,\n",
       "        -0.40356716, -0.23867796, -0.10557361],\n",
       "       [-0.15745261, -1.49986134, -1.07417231, -0.27868975,  0.34017003,\n",
       "         0.44392387,  3.48060604,  1.66806302],\n",
       "       [-1.21517858, -0.28843487, -1.07417231, -0.03875714, -0.52571732,\n",
       "        -0.40356716, -0.32262683, -0.10557361],\n",
       "       [-0.93074806,  0.92299159,  0.93094934, -0.13194197, -0.52571732,\n",
       "        -0.40356716, -0.54215311, -0.10557361],\n",
       "       [-1.09962868, -0.28843487,  0.93094934, -0.05856809, -0.52571732,\n",
       "        -0.40356716, -0.45694501, -0.10557361],\n",
       "       [ 1.08693089, -1.49986134, -1.07417231,  0.6017969 , -0.52571732,\n",
       "        -0.40356716,  2.87309664, -0.10557361],\n",
       "       [-0.31744477, -1.49986134,  0.93094934,  1.26216189, -0.52571732,\n",
       "        -0.40356716,  0.17260097,  1.66806302],\n",
       "       [-1.57960517, -1.49986134, -1.07417231,  1.26216189,  0.34017003,\n",
       "         2.13890593,  3.73000469,  1.66806302],\n",
       "       [-0.71742518,  0.92299159,  0.93094934, -0.03875714,  0.34017003,\n",
       "        -0.40356716, -0.54509132, -1.87921024],\n",
       "       [-0.36188704,  0.92299159,  0.93094934, -1.74616749,  0.34017003,\n",
       "         0.44392387, -0.41923854,  1.66806302],\n",
       "       [ 0.71361584,  0.92299159, -1.07417231, -0.03875714, -0.52571732,\n",
       "        -0.40356716, -0.54509132, -1.87921024],\n",
       "       [ 0.69583893,  0.92299159, -1.07417231, -0.5721853 , -0.52571732,\n",
       "        -0.40356716, -0.52977065, -0.10557361],\n",
       "       [ 0.18030863, -0.28843487, -1.07417231, -0.64555918, -0.52571732,\n",
       "        -0.40356716, -0.49891944, -0.10557361],\n",
       "       [ 0.81138883, -1.49986134,  0.93094934,  1.62903132,  0.34017003,\n",
       "         0.44392387,  0.69917023, -0.10557361],\n",
       "       [ 0.54473522,  0.92299159, -1.07417231, -2.18641082,  0.34017003,\n",
       "         0.44392387, -0.47065722, -0.10557361],\n",
       "       [-0.23744869, -0.28843487, -1.07417231, -1.15917639, -0.52571732,\n",
       "         1.2914149 , -0.02041091, -0.10557361],\n",
       "       [ 0.20697399,  0.92299159, -1.07417231, -0.03875714, -0.52571732,\n",
       "         1.2914149 , -0.41923854,  1.66806302],\n",
       "       [ 1.27358842,  0.92299159, -1.07417231, -1.08580251, -0.52571732,\n",
       "        -0.40356716, -0.5467703 , -0.10557361],\n",
       "       [ 0.40251997, -0.28843487,  0.93094934,  0.82191856,  0.34017003,\n",
       "         0.44392387, -0.12954443, -0.10557361],\n",
       "       [-0.67298291,  0.92299159,  0.93094934, -0.64555918, -0.52571732,\n",
       "        -0.40356716, -0.54432235, -0.10557361],\n",
       "       [-0.49521384, -1.49986134,  0.93094934, -0.03875714, -0.52571732,\n",
       "        -0.40356716,  0.19554755, -0.10557361],\n",
       "       [-0.12189879,  0.92299159, -1.07417231, -0.03875714,  6.40138155,\n",
       "         1.2914149 ,  0.49251666, -0.10557361],\n",
       "       [ 0.83805419, -0.28843487, -1.07417231, -2.18641082,  0.34017003,\n",
       "         1.2914149 ,  0.02289328,  1.66806302],\n",
       "       [ 0.09142409, -0.28843487,  0.93094934, -1.01242862, -0.52571732,\n",
       "        -0.40356716,  0.55883627, -0.10557361],\n",
       "       [-0.85964044,  0.92299159,  0.93094934, -0.20531586, -0.52571732,\n",
       "        -0.40356716, -0.29702242, -0.10557361],\n",
       "       [ 1.46913439,  0.92299159, -1.07417231, -0.64555918, -0.52571732,\n",
       "        -0.40356716, -0.00886794, -0.10557361],\n",
       "       [-0.44188312,  0.92299159,  0.93094934,  2.17933548, -0.52571732,\n",
       "        -0.40356716, -0.54264337, -0.10557361],\n",
       "       [-1.07296332, -1.49986134,  0.93094934,  2.65626574,  0.34017003,\n",
       "        -0.40356716,  3.04841041, -0.10557361],\n",
       "       [ 0.08253564,  0.92299159,  0.93094934, -0.03875714, -0.52571732,\n",
       "        -0.40356716, -0.55684416, -0.10557361],\n",
       "       [ 0.59806595,  0.92299159,  0.93094934, -1.01242862, -0.52571732,\n",
       "        -0.40356716, -0.52977065, -0.10557361],\n",
       "       [ 1.83356099,  0.92299159, -1.07417231, -0.03875714, -0.52571732,\n",
       "        -0.40356716, -0.54558158, -1.87921024],\n",
       "       [-0.89519425, -0.28843487,  0.93094934, -0.27868975,  0.34017003,\n",
       "        -0.40356716, -0.23867796, -0.10557361],\n",
       "       [ 0.91805027, -1.49986134, -1.07417231,  2.43614408,  0.34017003,\n",
       "         0.44392387, -0.22944358, -0.10557361],\n",
       "       [-1.73959734,  0.92299159, -1.07417231, -0.05856809, -0.52571732,\n",
       "        -0.40356716, -0.54711953, -1.87921024],\n",
       "       [-1.20629012,  0.92299159, -1.07417231, -0.93905473, -0.52571732,\n",
       "        -0.40356716, -0.54292208, -1.87921024],\n",
       "       [-1.56182827, -1.49986134, -1.07417231, -0.64555918, -0.52571732,\n",
       "         0.44392387,  0.36540465,  1.66806302],\n",
       "       [ 0.43807378,  0.92299159,  0.93094934, -0.79230696, -0.52571732,\n",
       "        -0.40356716, -0.54215311, -0.10557361],\n",
       "       [ 0.23363935,  0.92299159,  0.93094934,  0.71185773, -0.52571732,\n",
       "        -0.40356716, -0.42168649, -0.10557361],\n",
       "       [-0.8863058 ,  0.92299159,  0.93094934, -0.03875714, -0.52571732,\n",
       "        -0.40356716, -0.54509132, -1.87921024],\n",
       "       [-0.82408662, -0.28843487,  0.93094934, -0.90236779, -0.52571732,\n",
       "        -0.40356716, -0.45694501, -0.10557361],\n",
       "       [ 1.44246903, -1.49986134, -1.07417231, -0.42543752,  0.34017003,\n",
       "        -0.40356716,  0.25564151,  1.66806302],\n",
       "       [ 0.109201  ,  0.92299159, -1.07417231,  0.52842301,  2.93783211,\n",
       "         1.2914149 , -0.54467158, -0.10557361],\n",
       "       [ 0.79361192,  0.92299159, -1.07417231, -0.05856809, -0.52571732,\n",
       "        -0.40356716, -0.55852314, -1.87921024],\n",
       "       [ 0.57140059, -1.49986134,  0.93094934, -0.03875714, -0.52571732,\n",
       "        -0.40356716, -0.67521206, -0.10557361],\n",
       "       [-1.25073239, -0.28843487,  0.93094934,  0.08817969, -0.52571732,\n",
       "        -0.40356716, -0.44855012, -0.10557361],\n",
       "       [ 1.36247295, -1.49986134,  0.93094934,  1.40890966, -0.52571732,\n",
       "        -0.40356716, -0.23867796, -0.10557361],\n",
       "       [ 0.8558311 , -1.49986134,  0.93094934, -0.05856809, -0.52571732,\n",
       "        -0.40356716,  0.08872262, -0.10557361],\n",
       "       [-1.29517466,  0.92299159,  0.93094934,  0.30830135, -0.52571732,\n",
       "        -0.40356716, -0.54264337, -0.10557361],\n",
       "       [ 0.88249646, -0.28843487,  0.93094934, -0.03875714, -0.52571732,\n",
       "        -0.40356716, -0.42259649,  1.66806302],\n",
       "       [-1.46405528,  0.92299159, -1.07417231, -0.71893307, -0.52571732,\n",
       "        -0.40356716, -0.52977065, -0.10557361],\n",
       "       [-1.68626662, -1.49986134, -1.07417231, -0.5721853 ,  0.34017003,\n",
       "        -0.40356716,  0.70602717, -0.10557361],\n",
       "       [-0.80630971,  0.92299159, -1.07417231, -0.03875714, -0.52571732,\n",
       "        -0.40356716, -0.54460106, -1.87921024],\n",
       "       [ 1.70912264,  0.92299159,  0.93094934, -0.13194197,  2.07194475,\n",
       "         0.44392387, -0.30541731, -0.10557361],\n",
       "       [ 1.47802285, -1.49986134, -1.07417231,  1.04204022, -0.52571732,\n",
       "         0.44392387,  0.32210047,  1.66806302],\n",
       "       [-0.46854848, -0.28843487,  0.93094934, -0.05856809,  0.34017003,\n",
       "         0.44392387, -0.23867796, -0.10557361],\n",
       "       [ 1.16692697,  0.92299159, -1.07417231, -0.86568085,  0.34017003,\n",
       "         0.44392387, -0.41091249,  1.66806302],\n",
       "       [-1.1529594 ,  0.92299159, -1.07417231, -0.13194197, -0.52571732,\n",
       "        -0.40356716, -0.54215311, -0.10557361],\n",
       "       [ 0.2247509 ,  0.92299159, -1.07417231, -0.03875714, -0.52571732,\n",
       "        -0.40356716, -0.54509132, -1.87921024],\n",
       "       [ 1.13137316, -0.28843487,  0.93094934, -0.71893307, -0.52571732,\n",
       "        -0.40356716, -0.45694501, -0.10557361],\n",
       "       [ 0.52695832,  0.92299159,  0.93094934, -0.71893307, -0.52571732,\n",
       "        -0.40356716, -0.54334183, -0.10557361],\n",
       "       [ 1.54913048,  0.92299159, -1.07417231, -0.64555918,  1.20605739,\n",
       "        -0.40356716, -0.52977065, -0.10557361],\n",
       "       [ 1.45135749,  0.92299159, -1.07417231, -0.03875714,  0.34017003,\n",
       "         7.22385209,  0.49251666, -0.10557361],\n",
       "       [-0.92185961,  0.92299159, -1.07417231, -0.79230696, -0.52571732,\n",
       "        -0.40356716, -0.54334183, -0.10557361],\n",
       "       [-0.33522168, -0.28843487,  0.93094934,  0.74854468, -0.52571732,\n",
       "        -0.40356716, -0.45694501, -0.10557361],\n",
       "       [-0.91297116,  0.92299159,  0.93094934,  0.16155358, -0.52571732,\n",
       "        -0.40356716, -0.54005439, -0.10557361],\n",
       "       [-0.73520209, -0.28843487, -1.07417231, -0.13194197,  0.34017003,\n",
       "        -0.40356716, -0.23867796, -0.10557361],\n",
       "       [ 0.65139667, -0.28843487, -1.07417231, -0.79230696,  0.34017003,\n",
       "        -0.40356716, -0.23867796, -0.10557361],\n",
       "       [ 1.04248862, -0.28843487,  0.93094934, -0.64555918,  1.20605739,\n",
       "        -0.40356716, -0.14633421, -0.10557361],\n",
       "       [ 1.67356882, -1.49986134,  0.93094934, -0.5721853 , -0.52571732,\n",
       "        -0.40356716,  0.89463173, -0.10557361]])"
      ]
     },
     "execution_count": 395,
     "metadata": {},
     "output_type": "execute_result"
    }
   ],
   "source": [
    "x_test_norm = StandardScaler().fit(X_test).transform(X_test)\n",
    "x_test_norm"
   ]
  },
  {
   "cell_type": "markdown",
   "id": "e2d9c696",
   "metadata": {},
   "source": [
    "## Making Predictions"
   ]
  },
  {
   "cell_type": "code",
   "execution_count": 396,
   "id": "19c2ed68",
   "metadata": {},
   "outputs": [
    {
     "data": {
      "text/plain": [
       "array([1, 0, 0, 1, 0, 1, 0, 0, 0, 1, 0, 0, 1, 0, 0, 0, 1, 1, 0, 0, 1, 0,\n",
       "       1, 0, 0, 1, 1, 1, 0, 1, 1, 1, 1, 0, 0, 0, 1, 1, 0, 0, 1, 0, 0, 0,\n",
       "       0, 1, 0, 1, 1, 1, 1, 0, 0, 0, 0, 1, 1, 1, 0, 0, 0, 0, 0, 0, 1, 1,\n",
       "       1, 0, 1, 0, 1, 1, 1, 0, 0, 1, 1, 1, 0, 0, 1, 1, 0, 0], dtype=int64)"
      ]
     },
     "execution_count": 396,
     "metadata": {},
     "output_type": "execute_result"
    }
   ],
   "source": [
    "pred = model.predict(x_test_norm)\n",
    "pred"
   ]
  },
  {
   "cell_type": "markdown",
   "id": "077aab7e",
   "metadata": {},
   "source": [
    "# Using Different Metrics to Test the accuracy"
   ]
  },
  {
   "cell_type": "code",
   "execution_count": 397,
   "id": "0eafa508",
   "metadata": {},
   "outputs": [
    {
     "name": "stdout",
     "output_type": "stream",
     "text": [
      "Accuracy:  100.0\n"
     ]
    }
   ],
   "source": [
    "acc = accuracy_score(y_test, pred)\n",
    "print(\"Accuracy: \", acc*100)"
   ]
  },
  {
   "cell_type": "code",
   "execution_count": 398,
   "id": "8f950d38",
   "metadata": {},
   "outputs": [
    {
     "name": "stdout",
     "output_type": "stream",
     "text": [
      "F1-Score:  100.0\n"
     ]
    }
   ],
   "source": [
    "f1score = f1_score(y_test, pred)\n",
    "print(\"F1-Score: \", f1score*100)"
   ]
  },
  {
   "cell_type": "code",
   "execution_count": 399,
   "id": "7e945c98",
   "metadata": {},
   "outputs": [
    {
     "name": "stdout",
     "output_type": "stream",
     "text": [
      "Log-Loss:  2.61\n"
     ]
    }
   ],
   "source": [
    "prob = model.predict_proba(x_test_norm)\n",
    "loss = log_loss(y_test, prob)\n",
    "print(\"Log-Loss: \", round(loss*100, 2))"
   ]
  },
  {
   "cell_type": "markdown",
   "id": "58c5dbeb",
   "metadata": {},
   "source": [
    "# Final Report"
   ]
  },
  {
   "cell_type": "code",
   "execution_count": 400,
   "id": "4d86ea66",
   "metadata": {},
   "outputs": [
    {
     "data": {
      "text/html": [
       "<div>\n",
       "<style scoped>\n",
       "    .dataframe tbody tr th:only-of-type {\n",
       "        vertical-align: middle;\n",
       "    }\n",
       "\n",
       "    .dataframe tbody tr th {\n",
       "        vertical-align: top;\n",
       "    }\n",
       "\n",
       "    .dataframe thead th {\n",
       "        text-align: right;\n",
       "    }\n",
       "</style>\n",
       "<table border=\"1\" class=\"dataframe\">\n",
       "  <thead>\n",
       "    <tr style=\"text-align: right;\">\n",
       "      <th></th>\n",
       "      <th>Accuracy Score</th>\n",
       "      <th>F1-Score</th>\n",
       "      <th>Log-Loss</th>\n",
       "    </tr>\n",
       "  </thead>\n",
       "  <tbody>\n",
       "    <tr>\n",
       "      <th>0</th>\n",
       "      <td>1.0</td>\n",
       "      <td>1.0</td>\n",
       "      <td>0.02612</td>\n",
       "    </tr>\n",
       "  </tbody>\n",
       "</table>\n",
       "</div>"
      ],
      "text/plain": [
       "   Accuracy Score  F1-Score  Log-Loss\n",
       "0             1.0       1.0   0.02612"
      ]
     },
     "execution_count": 400,
     "metadata": {},
     "output_type": "execute_result"
    }
   ],
   "source": [
    "metrics_table = {\n",
    "    'Accuracy Score' : [acc],\n",
    "    'F1-Score': [f1score],\n",
    "    'Log-Loss' : [loss]\n",
    "}\n",
    "metrics = pd.DataFrame(metrics_table)\n",
    "metrics"
   ]
  },
  {
   "cell_type": "code",
   "execution_count": null,
   "id": "5d7d8639",
   "metadata": {},
   "outputs": [],
   "source": []
  },
  {
   "cell_type": "code",
   "execution_count": null,
   "id": "a7897272",
   "metadata": {},
   "outputs": [],
   "source": []
  },
  {
   "cell_type": "code",
   "execution_count": null,
   "id": "6a008557",
   "metadata": {},
   "outputs": [],
   "source": []
  },
  {
   "cell_type": "code",
   "execution_count": null,
   "id": "89e263c0",
   "metadata": {},
   "outputs": [],
   "source": []
  }
 ],
 "metadata": {
  "kernelspec": {
   "display_name": "Python 3 (ipykernel)",
   "language": "python",
   "name": "python3"
  },
  "language_info": {
   "codemirror_mode": {
    "name": "ipython",
    "version": 3
   },
   "file_extension": ".py",
   "mimetype": "text/x-python",
   "name": "python",
   "nbconvert_exporter": "python",
   "pygments_lexer": "ipython3",
   "version": "3.9.13"
  }
 },
 "nbformat": 4,
 "nbformat_minor": 5
}
