{
 "cells": [
  {
   "cell_type": "markdown",
   "id": "0fbab6f4",
   "metadata": {},
   "source": [
    "# Importing Libraries"
   ]
  },
  {
   "cell_type": "code",
   "execution_count": 50,
   "id": "c2dccd95",
   "metadata": {},
   "outputs": [],
   "source": [
    "import pandas as pd\n",
    "import numpy as np\n",
    "import seaborn as sns\n",
    "import matplotlib.pyplot as plt\n",
    "from sklearn.preprocessing import StandardScaler\n",
    "from sklearn.model_selection import train_test_split\n",
    "from sklearn import metrics as m\n",
    "from sklearn.linear_model import LinearRegression\n",
    "%matplotlib inline"
   ]
  },
  {
   "cell_type": "markdown",
   "id": "eb208470",
   "metadata": {},
   "source": [
    "# Importing DataSet"
   ]
  },
  {
   "cell_type": "code",
   "execution_count": 2,
   "id": "f9342635",
   "metadata": {},
   "outputs": [
    {
     "data": {
      "text/html": [
       "<div>\n",
       "<style scoped>\n",
       "    .dataframe tbody tr th:only-of-type {\n",
       "        vertical-align: middle;\n",
       "    }\n",
       "\n",
       "    .dataframe tbody tr th {\n",
       "        vertical-align: top;\n",
       "    }\n",
       "\n",
       "    .dataframe thead th {\n",
       "        text-align: right;\n",
       "    }\n",
       "</style>\n",
       "<table border=\"1\" class=\"dataframe\">\n",
       "  <thead>\n",
       "    <tr style=\"text-align: right;\">\n",
       "      <th></th>\n",
       "      <th>TV</th>\n",
       "      <th>Radio</th>\n",
       "      <th>Newspaper</th>\n",
       "      <th>Sales</th>\n",
       "    </tr>\n",
       "  </thead>\n",
       "  <tbody>\n",
       "    <tr>\n",
       "      <th>0</th>\n",
       "      <td>230.1</td>\n",
       "      <td>37.8</td>\n",
       "      <td>69.2</td>\n",
       "      <td>22.1</td>\n",
       "    </tr>\n",
       "    <tr>\n",
       "      <th>1</th>\n",
       "      <td>44.5</td>\n",
       "      <td>39.3</td>\n",
       "      <td>45.1</td>\n",
       "      <td>10.4</td>\n",
       "    </tr>\n",
       "    <tr>\n",
       "      <th>2</th>\n",
       "      <td>17.2</td>\n",
       "      <td>45.9</td>\n",
       "      <td>69.3</td>\n",
       "      <td>12.0</td>\n",
       "    </tr>\n",
       "    <tr>\n",
       "      <th>3</th>\n",
       "      <td>151.5</td>\n",
       "      <td>41.3</td>\n",
       "      <td>58.5</td>\n",
       "      <td>16.5</td>\n",
       "    </tr>\n",
       "    <tr>\n",
       "      <th>4</th>\n",
       "      <td>180.8</td>\n",
       "      <td>10.8</td>\n",
       "      <td>58.4</td>\n",
       "      <td>17.9</td>\n",
       "    </tr>\n",
       "  </tbody>\n",
       "</table>\n",
       "</div>"
      ],
      "text/plain": [
       "      TV  Radio  Newspaper  Sales\n",
       "0  230.1   37.8       69.2   22.1\n",
       "1   44.5   39.3       45.1   10.4\n",
       "2   17.2   45.9       69.3   12.0\n",
       "3  151.5   41.3       58.5   16.5\n",
       "4  180.8   10.8       58.4   17.9"
      ]
     },
     "execution_count": 2,
     "metadata": {},
     "output_type": "execute_result"
    }
   ],
   "source": [
    "df = pd.read_csv('datasets/advertising.csv')\n",
    "df.head()"
   ]
  },
  {
   "cell_type": "markdown",
   "id": "2c306f0b",
   "metadata": {},
   "source": [
    "# Basic Overview"
   ]
  },
  {
   "cell_type": "code",
   "execution_count": 3,
   "id": "e90a0dae",
   "metadata": {},
   "outputs": [
    {
     "name": "stdout",
     "output_type": "stream",
     "text": [
      "<class 'pandas.core.frame.DataFrame'>\n",
      "RangeIndex: 200 entries, 0 to 199\n",
      "Data columns (total 4 columns):\n",
      " #   Column     Non-Null Count  Dtype  \n",
      "---  ------     --------------  -----  \n",
      " 0   TV         200 non-null    float64\n",
      " 1   Radio      200 non-null    float64\n",
      " 2   Newspaper  200 non-null    float64\n",
      " 3   Sales      200 non-null    float64\n",
      "dtypes: float64(4)\n",
      "memory usage: 6.4 KB\n"
     ]
    }
   ],
   "source": [
    "df.info()"
   ]
  },
  {
   "cell_type": "code",
   "execution_count": 4,
   "id": "d788e9c9",
   "metadata": {},
   "outputs": [
    {
     "data": {
      "text/html": [
       "<div>\n",
       "<style scoped>\n",
       "    .dataframe tbody tr th:only-of-type {\n",
       "        vertical-align: middle;\n",
       "    }\n",
       "\n",
       "    .dataframe tbody tr th {\n",
       "        vertical-align: top;\n",
       "    }\n",
       "\n",
       "    .dataframe thead th {\n",
       "        text-align: right;\n",
       "    }\n",
       "</style>\n",
       "<table border=\"1\" class=\"dataframe\">\n",
       "  <thead>\n",
       "    <tr style=\"text-align: right;\">\n",
       "      <th></th>\n",
       "      <th>TV</th>\n",
       "      <th>Radio</th>\n",
       "      <th>Newspaper</th>\n",
       "      <th>Sales</th>\n",
       "    </tr>\n",
       "  </thead>\n",
       "  <tbody>\n",
       "    <tr>\n",
       "      <th>count</th>\n",
       "      <td>200.000000</td>\n",
       "      <td>200.000000</td>\n",
       "      <td>200.000000</td>\n",
       "      <td>200.000000</td>\n",
       "    </tr>\n",
       "    <tr>\n",
       "      <th>mean</th>\n",
       "      <td>147.042500</td>\n",
       "      <td>23.264000</td>\n",
       "      <td>30.554000</td>\n",
       "      <td>15.130500</td>\n",
       "    </tr>\n",
       "    <tr>\n",
       "      <th>std</th>\n",
       "      <td>85.854236</td>\n",
       "      <td>14.846809</td>\n",
       "      <td>21.778621</td>\n",
       "      <td>5.283892</td>\n",
       "    </tr>\n",
       "    <tr>\n",
       "      <th>min</th>\n",
       "      <td>0.700000</td>\n",
       "      <td>0.000000</td>\n",
       "      <td>0.300000</td>\n",
       "      <td>1.600000</td>\n",
       "    </tr>\n",
       "    <tr>\n",
       "      <th>25%</th>\n",
       "      <td>74.375000</td>\n",
       "      <td>9.975000</td>\n",
       "      <td>12.750000</td>\n",
       "      <td>11.000000</td>\n",
       "    </tr>\n",
       "    <tr>\n",
       "      <th>50%</th>\n",
       "      <td>149.750000</td>\n",
       "      <td>22.900000</td>\n",
       "      <td>25.750000</td>\n",
       "      <td>16.000000</td>\n",
       "    </tr>\n",
       "    <tr>\n",
       "      <th>75%</th>\n",
       "      <td>218.825000</td>\n",
       "      <td>36.525000</td>\n",
       "      <td>45.100000</td>\n",
       "      <td>19.050000</td>\n",
       "    </tr>\n",
       "    <tr>\n",
       "      <th>max</th>\n",
       "      <td>296.400000</td>\n",
       "      <td>49.600000</td>\n",
       "      <td>114.000000</td>\n",
       "      <td>27.000000</td>\n",
       "    </tr>\n",
       "  </tbody>\n",
       "</table>\n",
       "</div>"
      ],
      "text/plain": [
       "               TV       Radio   Newspaper       Sales\n",
       "count  200.000000  200.000000  200.000000  200.000000\n",
       "mean   147.042500   23.264000   30.554000   15.130500\n",
       "std     85.854236   14.846809   21.778621    5.283892\n",
       "min      0.700000    0.000000    0.300000    1.600000\n",
       "25%     74.375000    9.975000   12.750000   11.000000\n",
       "50%    149.750000   22.900000   25.750000   16.000000\n",
       "75%    218.825000   36.525000   45.100000   19.050000\n",
       "max    296.400000   49.600000  114.000000   27.000000"
      ]
     },
     "execution_count": 4,
     "metadata": {},
     "output_type": "execute_result"
    }
   ],
   "source": [
    "df.describe()"
   ]
  },
  {
   "cell_type": "markdown",
   "id": "7e74dfca",
   "metadata": {},
   "source": [
    "# Data Visualization"
   ]
  },
  {
   "cell_type": "code",
   "execution_count": 13,
   "id": "81b34e84",
   "metadata": {},
   "outputs": [
    {
     "data": {
      "image/png": "[encoded data removed]",
      "text/plain": [
       "<Figure size 640x480 with 1 Axes>"
      ]
     },
     "metadata": {},
     "output_type": "display_data"
    }
   ],
   "source": [
    "plt.scatter(df['TV'], df['Sales'])\n",
    "plt.xlabel('TV')\n",
    "plt.ylabel('Sales')\n",
    "plt.show()"
   ]
  },
  {
   "cell_type": "code",
   "execution_count": 16,
   "id": "c2041b2b",
   "metadata": {},
   "outputs": [
    {
     "data": {
      "image/png": "[encoded data removed]",
      "text/plain": [
       "<Figure size 640x480 with 2 Axes>"
      ]
     },
     "metadata": {},
     "output_type": "display_data"
    }
   ],
   "source": [
    "sns.heatmap(df.corr(), cmap = 'YlGnBu', annot = True)\n",
    "plt.show()"
   ]
  },
  {
   "cell_type": "markdown",
   "id": "815f4251",
   "metadata": {},
   "source": [
    "# Splitting Dataset into Independent and Dependent Variables"
   ]
  },
  {
   "cell_type": "code",
   "execution_count": 18,
   "id": "92b5d85b",
   "metadata": {},
   "outputs": [],
   "source": [
    "X = df[['TV', 'Radio', 'Newspaper']]\n",
    "y = df['Sales']\n"
   ]
  },
  {
   "cell_type": "code",
   "execution_count": 19,
   "id": "8dd4bdea",
   "metadata": {},
   "outputs": [
    {
     "name": "stdout",
     "output_type": "stream",
     "text": [
      "(200, 3)\n",
      "(200,)\n"
     ]
    }
   ],
   "source": [
    "print(X.shape)\n",
    "print(y.shape)"
   ]
  },
  {
   "cell_type": "markdown",
   "id": "69177fcd",
   "metadata": {},
   "source": [
    "## Splitting Dataset into Training and Testing Set"
   ]
  },
  {
   "cell_type": "code",
   "execution_count": 23,
   "id": "c115730b",
   "metadata": {},
   "outputs": [
    {
     "name": "stdout",
     "output_type": "stream",
     "text": [
      "(160, 3) (160,)\n",
      "(40, 3) (40,)\n"
     ]
    }
   ],
   "source": [
    "X_train, X_test, y_train, y_test = train_test_split(X, y, test_size = 0.2, random_state = 10)\n",
    "print(X_train.shape, y_train.shape)\n",
    "print(X_test.shape, y_test.shape)"
   ]
  },
  {
   "cell_type": "markdown",
   "id": "477cfdc9",
   "metadata": {},
   "source": [
    "## Data Normalization "
   ]
  },
  {
   "cell_type": "code",
   "execution_count": 26,
   "id": "f5cc9f60",
   "metadata": {},
   "outputs": [
    {
     "data": {
      "text/plain": [
       "array([[-1.29793425e+00,  1.31029192e+00, -1.12911795e+00],\n",
       "       [-3.06299367e-01, -1.79168196e-01, -8.59088713e-01],\n",
       "       [-2.73636548e-02,  4.92820785e-01, -8.12531947e-01],\n",
       "       [-1.25492655e+00,  2.57278255e-01, -4.44733501e-01],\n",
       "       [ 8.06985898e-01,  1.89914824e+00,  3.56042863e-01],\n",
       "       [-1.45399080e+00,  7.49146478e-01, -5.00601619e-01],\n",
       "       [ 5.25592602e-01, -3.45433511e-01, -5.65781091e-01],\n",
       "       [ 1.06871853e+00, -9.41217555e-01, -9.94103332e-01],\n",
       "       [-1.69360518e+00,  4.09688127e-01,  5.28302895e-01],\n",
       "       [-7.28289470e-02, -5.46337433e-01, -2.07293998e-01],\n",
       "       [-1.01776975e+00, -6.64108697e-01, -5.47158385e-01],\n",
       "       [ 7.59063022e-01, -9.55072998e-01, -1.70048585e-01],\n",
       "       [ 1.85883158e+00,  9.77761286e-01,  3.29843043e+00],\n",
       "       [ 2.25767432e-01,  1.01239989e+00, -1.05462713e+00],\n",
       "       [ 1.13384449e+00, -1.18368781e+00, -3.05063205e-01],\n",
       "       [-1.12590342e+00, -1.39844717e+00, -4.02832412e-01],\n",
       "       [ 1.61921720e+00,  1.85065419e+00,  5.46925601e-01],\n",
       "       [ 6.63217271e-01,  5.82881163e-01,  4.02599628e-01],\n",
       "       [-1.33039739e-01, -1.19754325e+00, -9.66169273e-01],\n",
       "       [-9.61245333e-01, -7.26458191e-01,  3.14141774e-01],\n",
       "       [-1.54492138e+00, -4.28566168e-01, -3.60931323e-01],\n",
       "       [ 9.91304650e-01, -9.68928441e-01,  1.23131005e+00],\n",
       "       [ 2.23309848e-01,  6.52158378e-01,  1.06370570e+00],\n",
       "       [ 7.57834230e-01, -1.17676008e+00, -4.95945943e-01],\n",
       "       [ 2.66317557e-01,  1.37264141e+00, -1.23154284e+00],\n",
       "       [ 1.13384449e+00,  3.68121799e-01, -8.87022772e-01],\n",
       "       [ 1.09820953e+00, -1.30145907e+00,  2.54886651e+00],\n",
       "       [-8.22391873e-01,  1.70517204e+00,  2.07061214e-01],\n",
       "       [-7.16001553e-02, -5.32481990e-01, -9.24268184e-01],\n",
       "       [-1.39623759e+00,  1.67217876e-01, -1.29672231e+00],\n",
       "       [-4.70243217e-02,  3.19627748e-01,  7.51775368e-01],\n",
       "       [-1.25369775e+00,  3.12700027e-01,  2.34995273e-01],\n",
       "       [-6.25785204e-01, -1.19754325e+00, -1.02203739e+00],\n",
       "       [-7.30232497e-01,  9.43122679e-01,  8.96101341e-01],\n",
       "       [-1.21980614e-01,  1.35185824e+00,  7.37808339e-01],\n",
       "       [ 6.44785396e-01,  7.71574976e-02, -7.38041123e-01],\n",
       "       [-9.42813458e-01,  1.54583445e+00,  2.58273656e-01],\n",
       "       [-1.56335326e+00,  1.06782166e+00, -3.93521059e-01],\n",
       "       [-8.44510124e-01, -1.48157983e+00, -7.10107063e-01],\n",
       "       [ 3.91654309e-01,  7.76857364e-01,  4.02599628e-01],\n",
       "       [-8.44510124e-01,  3.12700027e-01, -3.60931323e-01],\n",
       "       [ 1.16333549e+00, -1.25296502e+00,  3.18797451e-01],\n",
       "       [-5.88921454e-01, -1.43308578e+00, -2.44423018e-03],\n",
       "       [-1.16891113e+00, -7.33385912e-01, -5.42502708e-01],\n",
       "       [ 1.00850773e+00, -4.42421611e-01,  9.24035400e-01],\n",
       "       [ 1.44718636e+00, -1.29453135e+00, -4.91290266e-01],\n",
       "       [ 4.60466643e-01,  1.66360571e+00,  1.33373494e+00],\n",
       "       [-8.88032389e-02,  1.67746115e+00,  1.34770196e+00],\n",
       "       [ 1.67451283e+00,  1.20637609e+00,  1.19872032e+00],\n",
       "       [ 5.61941796e-02,  9.29267236e-01, -1.11980660e+00],\n",
       "       [-5.49600120e-01, -8.71940341e-01, -1.23154284e+00],\n",
       "       [ 7.24656855e-01,  7.42218757e-01,  7.42464015e-01],\n",
       "       [-8.58026832e-01, -1.30674146e-01,  1.13947683e-01],\n",
       "       [ 8.40163273e-01,  1.44191862e+00,  1.74471478e-01],\n",
       "       [ 1.33536632e+00, -6.13969314e-02, -2.44423018e-03],\n",
       "       [-9.15780041e-01, -4.28566168e-01,  5.00368836e-01],\n",
       "       [ 7.83124299e-02,  1.32414736e+00,  1.32442358e+00],\n",
       "       [ 1.02202444e+00, -3.66216675e-01, -1.79359938e-01],\n",
       "       [ 1.20511440e+00,  1.85758191e+00,  6.63317514e-01],\n",
       "       [ 1.73103724e+00, -5.74048319e-01, -1.22688716e+00],\n",
       "       [-8.65399582e-01,  1.88529280e+00,  7.28496986e-01],\n",
       "       [-1.55352292e+00, -6.98747305e-01, -3.09718881e-01],\n",
       "       [-6.91425720e-02, -1.39151945e+00, -1.60737232e-01],\n",
       "       [ 5.64913936e-01,  4.51254456e-01, -5.51814061e-01],\n",
       "       [ 3.68307267e-01,  2.17357260e-02,  6.73909178e-02],\n",
       "       [-1.68008847e+00,  3.47338634e-01, -1.30137798e+00],\n",
       "       [ 4.88728852e-01, -8.21800957e-02, -3.74898353e-01],\n",
       "       [ 2.51572057e-01, -8.44229455e-01, -5.79748120e-01],\n",
       "       [-8.55569249e-01, -7.88807684e-01, -1.11980660e+00],\n",
       "       [ 1.82442541e+00,  3.81977241e-01, -1.31534501e+00],\n",
       "       [-1.05094713e+00, -7.05675026e-01,  6.07449396e-01],\n",
       "       [ 1.47544857e+00, -1.33609768e+00,  6.02793719e-01],\n",
       "       [-3.57908617e-01, -1.00356705e+00, -3.23685911e-01],\n",
       "       [ 3.36358683e-01, -2.83084018e-01,  3.01455056e-02],\n",
       "       [ 3.08096475e-01, -9.96639327e-01,  2.39650950e-01],\n",
       "       [-4.97990869e-01, -1.14212148e+00,  2.02405537e-01],\n",
       "       [ 8.63510315e-01,  9.79406620e-02,  1.28252249e+00],\n",
       "       [-1.49085455e+00,  8.94628629e-01,  1.66894365e+00],\n",
       "       [ 3.75680017e-01, -4.70132497e-01, -1.28741095e+00],\n",
       "       [ 8.54908773e-01,  1.25651548e-01, -1.21292013e+00],\n",
       "       [-1.62110647e+00, -4.35493890e-01,  9.10068371e-01],\n",
       "       [-1.47610905e+00, -7.74952241e-01, -1.64112598e-02],\n",
       "       [ 5.90718562e-01, -2.62300853e-01,  1.65963229e+00],\n",
       "       [ 1.16702186e+00, -1.03127793e+00, -9.94103332e-01],\n",
       "       [-1.07675175e+00,  7.35291035e-01, -3.05063205e-01],\n",
       "       [ 9.23721107e-01,  1.85758191e+00, -1.25016554e+00],\n",
       "       [-1.23403709e+00,  2.50350534e-01, -4.40077824e-01],\n",
       "       [-1.73292651e+00, -7.33385912e-01, -1.13377363e+00],\n",
       "       [-1.31636613e+00,  1.25487014e+00, -8.45121683e-01],\n",
       "       [ 1.14367482e+00,  8.39206857e-01, -1.15239633e+00],\n",
       "       [-6.07353329e-01, -1.44001350e+00, -1.05462713e+00],\n",
       "       [-1.62233526e+00, -1.50929071e+00, -2.07293998e-01],\n",
       "       [ 6.71818813e-01, -1.32224224e+00,  2.11716890e-01],\n",
       "       [-1.32988284e+00,  1.13709888e+00,  1.65497662e+00],\n",
       "       [-6.01209371e-01, -5.11698826e-01,  4.11910981e-01],\n",
       "       [-5.93122385e-02, -1.40537489e+00, -9.80136302e-01],\n",
       "       [ 4.38348393e-01, -7.88807684e-01,  1.31976791e+00],\n",
       "       [ 9.17577149e-01,  7.83785086e-01,  7.00562927e-01],\n",
       "       [-1.47488026e+00,  2.43422812e-01,  6.16760749e-01],\n",
       "       [ 6.44785396e-01, -1.29453135e+00, -1.12446228e+00],\n",
       "       [ 1.26901157e+00,  5.55170278e-01, -4.54044854e-01],\n",
       "       [ 1.27392674e+00,  3.40410913e-01, -3.32997264e-01],\n",
       "       [-1.18980059e+00,  1.71902748e+00, -1.00341469e+00],\n",
       "       [ 2.38055349e-01, -8.91078172e-02,  8.07643487e-01],\n",
       "       [ 1.40980806e-01, -1.35688084e+00, -1.01272604e+00],\n",
       "       [-4.34093702e-01, -5.46337433e-01,  7.67022709e-02],\n",
       "       [-2.38715824e-01,  1.01932761e+00,  2.28814862e+00],\n",
       "       [-1.57195480e+00, -1.25296502e+00,  7.20465944e-02],\n",
       "       [ 3.91654309e-01, -8.92723505e-01, -1.10118389e+00],\n",
       "       [ 1.57989587e+00,  4.65109899e-01,  1.38029170e+00],\n",
       "       [ 8.38934481e-01,  1.67217876e-01, -7.89253565e-01],\n",
       "       [-1.09272604e+00, -1.14212148e+00, -1.64112598e-02],\n",
       "       [-4.63584702e-01, -5.67120597e-01, -8.91678448e-01],\n",
       "       [-2.96469033e-01, -9.55072998e-01,  8.68167282e-01],\n",
       "       [ 1.66591128e+00, -5.74048319e-01,  3.23453127e-01],\n",
       "       [ 2.85978224e-01, -1.04513338e+00, -8.03220594e-01],\n",
       "       [ 1.29973136e+00,  9.91616729e-01,  1.96690694e+00],\n",
       "       [-9.32983125e-01, -1.16818703e-01, -5.47158385e-01],\n",
       "       [ 1.16702186e+00, -3.80072118e-01, -3.32997264e-01],\n",
       "       [ 1.49633803e+00,  1.49734039e+00, -1.16636336e+00],\n",
       "       [-1.09692698e-01, -2.06879082e-01, -6.26304886e-01],\n",
       "       [-3.96001160e-01, -3.31578068e-01,  3.97943952e-01],\n",
       "       [-9.35440708e-01, -8.92723505e-01, -1.35724610e+00],\n",
       "       [-8.81373874e-01, -3.59288954e-01, -7.98564918e-01],\n",
       "       [-4.34093702e-01,  1.77444925e+00,  9.93870548e-01],\n",
       "       [-1.63953834e+00,  1.01932761e+00,  7.05218603e-01],\n",
       "       [ 1.81582387e+00,  4.23543570e-01,  6.12105072e-01],\n",
       "       [-8.45738915e-01,  3.68121799e-01, -6.54238945e-01],\n",
       "       [ 8.91772524e-01,  7.83785086e-01,  1.34770196e+00],\n",
       "       [ 5.96862520e-01,  9.15411793e-01,  2.12054427e+00],\n",
       "       [-1.68746122e+00,  1.15788204e+00,  9.56625136e-01],\n",
       "       [ 3.21613183e-01,  1.21330382e+00,  3.56042863e-01],\n",
       "       [-5.85235079e-01, -1.01049477e+00, -1.06393848e+00],\n",
       "       [-3.02612992e-01,  4.37399013e-01, -7.38041123e-01],\n",
       "       [ 9.01602857e-01, -1.16290464e+00, -1.23491820e-01],\n",
       "       [ 1.75069791e+00,  1.44191862e+00,  1.94362856e+00],\n",
       "       [ 1.48036374e+00, -1.51457310e-01, -1.38518016e+00],\n",
       "       [ 1.15719153e+00, -4.63204775e-01, -1.28147497e-01],\n",
       "       [ 9.69186400e-01, -1.37073629e+00, -6.72861651e-01],\n",
       "       [-6.72479288e-01, -1.51621844e+00, -3.19030235e-01],\n",
       "       [-6.98283913e-01,  2.29567370e-01,  2.01811939e+00],\n",
       "       [ 1.44472878e+00,  4.58182177e-01, -6.58894622e-01],\n",
       "       [ 4.88728852e-01,  1.50426812e+00, -1.32000069e+00],\n",
       "       [ 9.49525733e-01, -1.23910958e+00,  9.19379724e-01],\n",
       "       [-9.50186208e-01,  9.98544450e-01,  3.90832406e+00],\n",
       "       [-8.60484416e-01,  8.87700907e-01,  1.05439434e+00],\n",
       "       [-3.43163117e-01, -5.18626547e-01, -1.14774066e+00],\n",
       "       [ 7.04996188e-01,  7.88028315e-03,  7.20465944e-02],\n",
       "       [ 1.04414269e+00,  1.08167711e+00,  1.82258097e+00],\n",
       "       [-1.93250532e-01, -1.14212148e+00,  5.80795648e-02],\n",
       "       [-1.67763088e+00, -1.39151945e+00, -1.35259043e+00],\n",
       "       [-1.31390855e+00, -1.28067591e+00, -7.56663829e-01],\n",
       "       [ 5.74229713e-02, -1.44694122e+00, -2.67817793e-01],\n",
       "       [-6.29471579e-01,  1.47655723e+00,  9.51969459e-01],\n",
       "       [-2.70664408e-01,  8.59990021e-01, -8.21843300e-01],\n",
       "       [ 7.92240397e-01, -1.09890982e-01, -9.00989801e-01],\n",
       "       [-1.72361073e-01,  1.42806318e+00, -5.36566721e-02],\n",
       "       [ 6.17751979e-01,  1.76752153e+00,  1.06370570e+00],\n",
       "       [-7.11800622e-01, -7.19530469e-01, -1.93326968e-01],\n",
       "       [ 6.71818813e-01, -1.35688084e+00, -4.12143765e-01]])"
      ]
     },
     "execution_count": 26,
     "metadata": {},
     "output_type": "execute_result"
    }
   ],
   "source": [
    "x_train_norm = StandardScaler().fit(X_train).transform(X_train)\n",
    "x_test_norm = StandardScaler().fit(X_test).transform(X_test)\n",
    "x_train_norm"
   ]
  },
  {
   "cell_type": "markdown",
   "id": "06d86999",
   "metadata": {},
   "source": [
    "# Model Selection (Linear Regression)"
   ]
  },
  {
   "cell_type": "code",
   "execution_count": 34,
   "id": "6ac5d35c",
   "metadata": {},
   "outputs": [
    {
     "data": {
      "text/plain": [
       "LinearRegression()"
      ]
     },
     "execution_count": 34,
     "metadata": {},
     "output_type": "execute_result"
    }
   ],
   "source": [
    "model = LinearRegression()\n",
    "model"
   ]
  },
  {
   "cell_type": "code",
   "execution_count": 35,
   "id": "86d877ef",
   "metadata": {},
   "outputs": [
    {
     "data": {
      "text/plain": [
       "LinearRegression()"
      ]
     },
     "execution_count": 35,
     "metadata": {},
     "output_type": "execute_result"
    }
   ],
   "source": [
    "model.fit(x_train_norm, y_train)"
   ]
  },
  {
   "cell_type": "markdown",
   "id": "6a75de01",
   "metadata": {},
   "source": [
    "## Model Predictions"
   ]
  },
  {
   "cell_type": "code",
   "execution_count": 36,
   "id": "756041ca",
   "metadata": {},
   "outputs": [
    {
     "data": {
      "text/plain": [
       "array([17.58821568, 10.71893283, 17.68166789, 21.94148606, 19.0339445 ,\n",
       "       14.25994225, 15.44365166, 19.03059344, 19.29073433, 10.79018064,\n",
       "       22.25580386,  8.89782273, 10.5276849 , 18.35109724, 18.6023941 ,\n",
       "       12.91990418, 19.26612893,  8.73304522, 19.77603837, 18.91114472,\n",
       "       15.74313227,  9.51481878, 21.06126859, 14.31155468, 18.61484832,\n",
       "        8.42794504, 10.53205463, 11.33476512, 20.05940828,  8.34376066,\n",
       "       13.0055586 , 19.14049623,  6.80356642,  6.8250436 , 18.47765489,\n",
       "       17.66852567,  8.93965421, 18.86280543, 10.32155018, 15.44117488])"
      ]
     },
     "execution_count": 36,
     "metadata": {},
     "output_type": "execute_result"
    }
   ],
   "source": [
    "pred = model.predict(x_test_norm)\n",
    "pred"
   ]
  },
  {
   "cell_type": "markdown",
   "id": "864bd253",
   "metadata": {},
   "source": [
    "# Evaluation"
   ]
  },
  {
   "cell_type": "code",
   "execution_count": 53,
   "id": "1f0ec7bf",
   "metadata": {},
   "outputs": [],
   "source": [
    "MAE = m.mean_absolute_error(y_test, pred)\n",
    "MSE = m.mean_squared_error(y_test, pred)\n",
    "R2_score = m.r2_score(y_test, pred)"
   ]
  },
  {
   "cell_type": "code",
   "execution_count": 54,
   "id": "b39da2a9",
   "metadata": {},
   "outputs": [
    {
     "name": "stdout",
     "output_type": "stream",
     "text": [
      "2.095487316841883 7.149379020824028 0.8210785235800597\n"
     ]
    }
   ],
   "source": [
    "print(MAE, MSE, R2_score)"
   ]
  },
  {
   "cell_type": "code",
   "execution_count": 55,
   "id": "d77ee5fe",
   "metadata": {},
   "outputs": [],
   "source": [
    "metrics = {\n",
    "    'Model' : ['Linear Regression'],\n",
    "    'MeanAbsoluteError' : [MAE],\n",
    "    'MeanSquaredError' : [MSE],\n",
    "    'R2_SCORE' : [R2_score]\n",
    "}\n"
   ]
  },
  {
   "cell_type": "code",
   "execution_count": 56,
   "id": "afe62a50",
   "metadata": {},
   "outputs": [
    {
     "data": {
      "text/html": [
       "<div>\n",
       "<style scoped>\n",
       "    .dataframe tbody tr th:only-of-type {\n",
       "        vertical-align: middle;\n",
       "    }\n",
       "\n",
       "    .dataframe tbody tr th {\n",
       "        vertical-align: top;\n",
       "    }\n",
       "\n",
       "    .dataframe thead th {\n",
       "        text-align: right;\n",
       "    }\n",
       "</style>\n",
       "<table border=\"1\" class=\"dataframe\">\n",
       "  <thead>\n",
       "    <tr style=\"text-align: right;\">\n",
       "      <th></th>\n",
       "      <th>Model</th>\n",
       "      <th>MeanAbsoluteError</th>\n",
       "      <th>MeanSquaredError</th>\n",
       "      <th>R2_SCORE</th>\n",
       "    </tr>\n",
       "  </thead>\n",
       "  <tbody>\n",
       "    <tr>\n",
       "      <th>0</th>\n",
       "      <td>Linear Regression</td>\n",
       "      <td>2.095487</td>\n",
       "      <td>7.149379</td>\n",
       "      <td>0.821079</td>\n",
       "    </tr>\n",
       "  </tbody>\n",
       "</table>\n",
       "</div>"
      ],
      "text/plain": [
       "               Model  MeanAbsoluteError  MeanSquaredError  R2_SCORE\n",
       "0  Linear Regression           2.095487          7.149379  0.821079"
      ]
     },
     "execution_count": 56,
     "metadata": {},
     "output_type": "execute_result"
    }
   ],
   "source": [
    "final_report = pd.DataFrame(data = metrics)\n",
    "final_report"
   ]
  },
  {
   "cell_type": "code",
   "execution_count": null,
   "id": "7fdc919b",
   "metadata": {},
   "outputs": [],
   "source": []
  }
 ],
 "metadata": {
  "kernelspec": {
   "display_name": "Python 3 (ipykernel)",
   "language": "python",
   "name": "python3"
  },
  "language_info": {
   "codemirror_mode": {
    "name": "ipython",
    "version": 3
   },
   "file_extension": ".py",
   "mimetype": "text/x-python",
   "name": "python",
   "nbconvert_exporter": "python",
   "pygments_lexer": "ipython3",
   "version": "3.9.13"
  }
 },
 "nbformat": 4,
 "nbformat_minor": 5
}
